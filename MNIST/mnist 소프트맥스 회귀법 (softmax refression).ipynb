{
 "cells": [
  {
   "cell_type": "code",
   "execution_count": 1,
   "metadata": {},
   "outputs": [
    {
     "name": "stdout",
     "output_type": "stream",
     "text": [
      "데이터 양 :  10000 개\n",
      "980\n",
      "정확도 : 0.098 %\n"
     ]
    }
   ],
   "source": [
    "from mnist import load_mnist\n",
    "import numpy as np\n",
    "from PIL import Image\n",
    "import pickle as pickle\n",
    "\n",
    "# 분류를 위한 softmax 함수\n",
    "def softmax(a):\n",
    "    c = np.max(a)\n",
    "    exp_a = np.sum(a-c)\n",
    "    sum_exp_a = np.sum(exp_a)\n",
    "    y = exp_a / sum_exp_a\n",
    "\n",
    "    return y\n",
    "\n",
    "\n",
    "\n",
    "# 이미지 show함수\n",
    "def img_show(img):\n",
    "    pil_img = Image.fromarray(np.uint8(img))\n",
    "    pil_img.show()\n",
    "\n",
    "\n",
    "\n",
    "\n",
    "# MNIST 데이터 mnist.py로부터  읽어오기\n",
    "def get_data():\n",
    "    (x_train, t_train), (x_test, t_test) = load_mnist(flatten=True, normalize=False, one_hot_label=False)\n",
    "    return x_test, t_test\n",
    "\n",
    "\n",
    "\n",
    "\n",
    "# 미리 설정된 편향과 가중치 함수\n",
    "def init_network():\n",
    "    with open(\"../dataset/sample_weight.pkl\", 'rb') as f:\n",
    "        network = pickle.load(f)\n",
    "\n",
    "    return network\n",
    "\n",
    "\n",
    "\n",
    "\n",
    "# 활성화 함수 ReLu\n",
    "def relu(x):\n",
    "    return np.maximum(0, x)\n",
    "\n",
    "\n",
    "\n",
    "# 신경망 함수\n",
    "# b = 편향, W = 가중치 (미리 계산된 값)\n",
    "def predict(network, x):\n",
    "    W1, W2, W3 = network['W1'], network['W2'], network['W3']\n",
    "    b1, b2, b3 = network['b1'], network['b2'], network['b3']\n",
    "\n",
    "    a1 = np.dot(x, W1)+b1\n",
    "    z1 = relu(a1)\n",
    "    a2 = np.dot(z1, W2)+b2\n",
    "    z2 = relu(a2)\n",
    "    a3 = np.dot(z2, W3)+b3\n",
    "    y = softmax(a3)\n",
    "\n",
    "    return y\n",
    "\n",
    "\n",
    "#### MAIN ####\n",
    "x, t = get_data()\n",
    "network = init_network()\n",
    "\n",
    "# 정확도 변수\n",
    "accuracy_cnt = 0\n",
    "\n",
    "# 정확도 측정\n",
    "for i in range(len(x)):\n",
    "    y = predict(network, x[i])\n",
    "    p = np.argmax(y)\n",
    "    if p == t[i]:\n",
    "        accuracy_cnt += 1\n",
    "\n",
    "print(\"데이터 양 : \",len(x),\"개\")\n",
    "print(accuracy_cnt)\n",
    "print(\"정확도 : \"+str(float(accuracy_cnt)/len(x)),\"%\")\n",
    "\n"
   ]
  },
  {
   "cell_type": "code",
   "execution_count": null,
   "metadata": {
    "collapsed": true
   },
   "outputs": [],
   "source": []
  }
 ],
 "metadata": {
  "kernelspec": {
   "display_name": "Python 3",
   "language": "python",
   "name": "python3"
  },
  "language_info": {
   "codemirror_mode": {
    "name": "ipython",
    "version": 3
   },
   "file_extension": ".py",
   "mimetype": "text/x-python",
   "name": "python",
   "nbconvert_exporter": "python",
   "pygments_lexer": "ipython3",
   "version": "3.6.1"
  }
 },
 "nbformat": 4,
 "nbformat_minor": 2
}
